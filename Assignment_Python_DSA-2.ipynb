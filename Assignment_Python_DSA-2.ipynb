{
 "cells": [
  {
   "cell_type": "code",
   "execution_count": 3,
   "id": "2133d86a",
   "metadata": {},
   "outputs": [],
   "source": [
    "import numpy as np\n",
    "import pandas as pd\n",
    "import matplotlib.pyplot as plt\n",
    "import seaborn as sns"
   ]
  },
  {
   "cell_type": "code",
   "execution_count": null,
   "id": "625f15ce",
   "metadata": {},
   "outputs": [],
   "source": []
  },
  {
   "cell_type": "markdown",
   "id": "66c33185",
   "metadata": {},
   "source": [
    "# 1) READ THE DATASET TO THE PYTHON ENVIORNMENT"
   ]
  },
  {
   "cell_type": "code",
   "execution_count": 4,
   "id": "e671816e",
   "metadata": {},
   "outputs": [],
   "source": [
    "data=pd.read_csv('C:\\DSA\\cars_data.csv')"
   ]
  },
  {
   "cell_type": "code",
   "execution_count": 5,
   "id": "17914a63",
   "metadata": {},
   "outputs": [
    {
     "data": {
      "text/html": [
       "<div>\n",
       "<style scoped>\n",
       "    .dataframe tbody tr th:only-of-type {\n",
       "        vertical-align: middle;\n",
       "    }\n",
       "\n",
       "    .dataframe tbody tr th {\n",
       "        vertical-align: top;\n",
       "    }\n",
       "\n",
       "    .dataframe thead th {\n",
       "        text-align: right;\n",
       "    }\n",
       "</style>\n",
       "<table border=\"1\" class=\"dataframe\">\n",
       "  <thead>\n",
       "    <tr style=\"text-align: right;\">\n",
       "      <th></th>\n",
       "      <th>Make</th>\n",
       "      <th>Model</th>\n",
       "      <th>Nickname</th>\n",
       "      <th>Car Gender</th>\n",
       "      <th>Buyer Gender</th>\n",
       "      <th>Buyer Age</th>\n",
       "      <th>Buzzword</th>\n",
       "      <th>Country</th>\n",
       "      <th>City</th>\n",
       "      <th>Dealer Latitude</th>\n",
       "      <th>Dealer Longitude</th>\n",
       "      <th>Color</th>\n",
       "      <th>New Car</th>\n",
       "      <th>Purchase Date</th>\n",
       "      <th>Sale Price</th>\n",
       "      <th>Discount</th>\n",
       "      <th>Resell Price</th>\n",
       "      <th>5-yr Depreciation</th>\n",
       "      <th>Top Speed</th>\n",
       "      <th>0-60 Time</th>\n",
       "    </tr>\n",
       "  </thead>\n",
       "  <tbody>\n",
       "    <tr>\n",
       "      <th>0</th>\n",
       "      <td>Suzuki</td>\n",
       "      <td>Vitara</td>\n",
       "      <td>Philippine</td>\n",
       "      <td>Female</td>\n",
       "      <td>Female</td>\n",
       "      <td>51</td>\n",
       "      <td>User-friendly</td>\n",
       "      <td>Belgium</td>\n",
       "      <td>Antwerpen</td>\n",
       "      <td>51.247239</td>\n",
       "      <td>4.440346</td>\n",
       "      <td>Yellow</td>\n",
       "      <td>False</td>\n",
       "      <td>19/07/2009</td>\n",
       "      <td>54806.14</td>\n",
       "      <td>0.2467</td>\n",
       "      <td>33858.32</td>\n",
       "      <td>0.13</td>\n",
       "      <td>200.9</td>\n",
       "      <td>11.5</td>\n",
       "    </tr>\n",
       "    <tr>\n",
       "      <th>1</th>\n",
       "      <td>Honda</td>\n",
       "      <td>S2000</td>\n",
       "      <td>Henrik</td>\n",
       "      <td>Male</td>\n",
       "      <td>Male</td>\n",
       "      <td>30</td>\n",
       "      <td>analyzing</td>\n",
       "      <td>China</td>\n",
       "      <td>Jinhu</td>\n",
       "      <td>33.025433</td>\n",
       "      <td>119.020584</td>\n",
       "      <td>Crimson</td>\n",
       "      <td>False</td>\n",
       "      <td>26/10/2015</td>\n",
       "      <td>51826.30</td>\n",
       "      <td>0.3147</td>\n",
       "      <td>2989.28</td>\n",
       "      <td>0.02</td>\n",
       "      <td>158.5</td>\n",
       "      <td>8.8</td>\n",
       "    </tr>\n",
       "    <tr>\n",
       "      <th>2</th>\n",
       "      <td>BMW</td>\n",
       "      <td>Z4</td>\n",
       "      <td>Lebbie</td>\n",
       "      <td>Male</td>\n",
       "      <td>Female</td>\n",
       "      <td>54</td>\n",
       "      <td>software</td>\n",
       "      <td>China</td>\n",
       "      <td>Gemo</td>\n",
       "      <td>30.916207</td>\n",
       "      <td>121.677640</td>\n",
       "      <td>Khaki</td>\n",
       "      <td>False</td>\n",
       "      <td>28/03/2010</td>\n",
       "      <td>82929.14</td>\n",
       "      <td>0.5414</td>\n",
       "      <td>35049.16</td>\n",
       "      <td>0.24</td>\n",
       "      <td>149.5</td>\n",
       "      <td>14.4</td>\n",
       "    </tr>\n",
       "    <tr>\n",
       "      <th>3</th>\n",
       "      <td>Toyota</td>\n",
       "      <td>Tacoma</td>\n",
       "      <td>Jefferey</td>\n",
       "      <td>Female</td>\n",
       "      <td>Male</td>\n",
       "      <td>68</td>\n",
       "      <td>monitoring</td>\n",
       "      <td>Portugal</td>\n",
       "      <td>Queluz de Baixo</td>\n",
       "      <td>38.745168</td>\n",
       "      <td>-9.267087</td>\n",
       "      <td>Puce</td>\n",
       "      <td>False</td>\n",
       "      <td>07/05/2008</td>\n",
       "      <td>56928.66</td>\n",
       "      <td>0.0850</td>\n",
       "      <td>8236.15</td>\n",
       "      <td>0.20</td>\n",
       "      <td>153.3</td>\n",
       "      <td>11.5</td>\n",
       "    </tr>\n",
       "    <tr>\n",
       "      <th>4</th>\n",
       "      <td>Ford</td>\n",
       "      <td>Festiva</td>\n",
       "      <td>Glendon</td>\n",
       "      <td>Female</td>\n",
       "      <td>Male</td>\n",
       "      <td>70</td>\n",
       "      <td>Sharable</td>\n",
       "      <td>Latvia</td>\n",
       "      <td>Jaunpils</td>\n",
       "      <td>56.729980</td>\n",
       "      <td>23.016588</td>\n",
       "      <td>Yellow</td>\n",
       "      <td>False</td>\n",
       "      <td>01/06/2008</td>\n",
       "      <td>77201.26</td>\n",
       "      <td>0.1642</td>\n",
       "      <td>32765.76</td>\n",
       "      <td>0.18</td>\n",
       "      <td>122.0</td>\n",
       "      <td>14.9</td>\n",
       "    </tr>\n",
       "  </tbody>\n",
       "</table>\n",
       "</div>"
      ],
      "text/plain": [
       "     Make    Model    Nickname Car Gender Buyer Gender  Buyer Age  \\\n",
       "0  Suzuki   Vitara  Philippine     Female       Female         51   \n",
       "1   Honda    S2000      Henrik       Male         Male         30   \n",
       "2     BMW       Z4      Lebbie       Male       Female         54   \n",
       "3  Toyota   Tacoma    Jefferey     Female         Male         68   \n",
       "4    Ford  Festiva     Glendon     Female         Male         70   \n",
       "\n",
       "        Buzzword   Country             City  Dealer Latitude  \\\n",
       "0  User-friendly   Belgium        Antwerpen        51.247239   \n",
       "1      analyzing     China            Jinhu        33.025433   \n",
       "2       software     China             Gemo        30.916207   \n",
       "3     monitoring  Portugal  Queluz de Baixo        38.745168   \n",
       "4       Sharable    Latvia         Jaunpils        56.729980   \n",
       "\n",
       "   Dealer Longitude    Color  New Car Purchase Date  Sale Price  Discount  \\\n",
       "0          4.440346   Yellow    False    19/07/2009    54806.14    0.2467   \n",
       "1        119.020584  Crimson    False    26/10/2015    51826.30    0.3147   \n",
       "2        121.677640    Khaki    False    28/03/2010    82929.14    0.5414   \n",
       "3         -9.267087     Puce    False    07/05/2008    56928.66    0.0850   \n",
       "4         23.016588   Yellow    False    01/06/2008    77201.26    0.1642   \n",
       "\n",
       "   Resell Price  5-yr Depreciation  Top Speed  0-60 Time  \n",
       "0      33858.32               0.13      200.9       11.5  \n",
       "1       2989.28               0.02      158.5        8.8  \n",
       "2      35049.16               0.24      149.5       14.4  \n",
       "3       8236.15               0.20      153.3       11.5  \n",
       "4      32765.76               0.18      122.0       14.9  "
      ]
     },
     "execution_count": 5,
     "metadata": {},
     "output_type": "execute_result"
    }
   ],
   "source": [
    "data.head()"
   ]
  },
  {
   "cell_type": "code",
   "execution_count": 6,
   "id": "ac56df32",
   "metadata": {},
   "outputs": [
    {
     "name": "stdout",
     "output_type": "stream",
     "text": [
      "<class 'pandas.core.frame.DataFrame'>\n",
      "RangeIndex: 10000 entries, 0 to 9999\n",
      "Data columns (total 20 columns):\n",
      " #   Column             Non-Null Count  Dtype  \n",
      "---  ------             --------------  -----  \n",
      " 0   Make               10000 non-null  object \n",
      " 1   Model              10000 non-null  object \n",
      " 2   Nickname           10000 non-null  object \n",
      " 3   Car Gender         10000 non-null  object \n",
      " 4   Buyer Gender       10000 non-null  object \n",
      " 5   Buyer Age          10000 non-null  int64  \n",
      " 6   Buzzword           10000 non-null  object \n",
      " 7   Country            10000 non-null  object \n",
      " 8   City               10000 non-null  object \n",
      " 9   Dealer Latitude    10000 non-null  float64\n",
      " 10  Dealer Longitude   10000 non-null  float64\n",
      " 11  Color              10000 non-null  object \n",
      " 12  New Car            10000 non-null  bool   \n",
      " 13  Purchase Date      10000 non-null  object \n",
      " 14  Sale Price         10000 non-null  float64\n",
      " 15  Discount           10000 non-null  float64\n",
      " 16  Resell Price       10000 non-null  float64\n",
      " 17  5-yr Depreciation  10000 non-null  float64\n",
      " 18  Top Speed          10000 non-null  float64\n",
      " 19  0-60 Time          10000 non-null  float64\n",
      "dtypes: bool(1), float64(8), int64(1), object(10)\n",
      "memory usage: 1.5+ MB\n"
     ]
    }
   ],
   "source": [
    "data.info()"
   ]
  },
  {
   "cell_type": "markdown",
   "id": "068ab7ce",
   "metadata": {},
   "source": [
    "# 2 )CHECK FOR THE NULL VALUES IN THE DATA SET"
   ]
  },
  {
   "cell_type": "code",
   "execution_count": 7,
   "id": "2ce97057",
   "metadata": {},
   "outputs": [
    {
     "data": {
      "text/plain": [
       "Make                 0\n",
       "Model                0\n",
       "Nickname             0\n",
       "Car Gender           0\n",
       "Buyer Gender         0\n",
       "Buyer Age            0\n",
       "Buzzword             0\n",
       "Country              0\n",
       "City                 0\n",
       "Dealer Latitude      0\n",
       "Dealer Longitude     0\n",
       "Color                0\n",
       "New Car              0\n",
       "Purchase Date        0\n",
       "Sale Price           0\n",
       "Discount             0\n",
       "Resell Price         0\n",
       "5-yr Depreciation    0\n",
       "Top Speed            0\n",
       "0-60 Time            0\n",
       "dtype: int64"
      ]
     },
     "execution_count": 7,
     "metadata": {},
     "output_type": "execute_result"
    }
   ],
   "source": [
    "data.isnull().sum()"
   ]
  },
  {
   "cell_type": "markdown",
   "id": "a40e1152",
   "metadata": {},
   "source": [
    "There is no null values in the data set."
   ]
  },
  {
   "cell_type": "markdown",
   "id": "aea63d6c",
   "metadata": {},
   "source": [
    "# 3) PLOT A BAR GRAPH OF MALE VS FEMALE BUYERS PARTICIPATED IN THE SALE"
   ]
  },
  {
   "cell_type": "code",
   "execution_count": 8,
   "id": "ae04df97",
   "metadata": {},
   "outputs": [
    {
     "data": {
      "image/png": "[encoded data removed]",
      "text/plain": [
       "<Figure size 432x288 with 1 Axes>"
      ]
     },
     "metadata": {
      "needs_background": "light"
     },
     "output_type": "display_data"
    }
   ],
   "source": [
    "a=data['Buyer Gender'].value_counts()\n",
    "x=list(a.index)\n",
    "y=list(a)\n",
    "fig, ax = plt.subplots() \n",
    "width = 0.753\n",
    "ind = np.arange(len(y))\n",
    "ax.barh(ind, y, width, color=\"blue\")\n",
    "ax.set_yticks(ind+width/2)\n",
    "ax.set_yticklabels(x, minor=False)\n",
    "for i, v in enumerate(y):\n",
    "    ax.text(v + .25, i + .25, str(v), color='blue', fontweight='bold') \n",
    "plt.title(' MALE VS FEMALE BUYERS')\n",
    "plt.xlabel('COUNT')\n",
    "plt.ylabel('BUYER GENDER')\n",
    "plt.show()"
   ]
  },
  {
   "cell_type": "markdown",
   "id": "552e63c2",
   "metadata": {},
   "source": [
    "There is a total of 4948 male buyers and 5052 female buyers participated in the sale."
   ]
  },
  {
   "cell_type": "markdown",
   "id": "c0dd289c",
   "metadata": {},
   "source": [
    "# 4) FIND THE TOP FIVE CARS BASED ON THEIR SALES PRICE"
   ]
  },
  {
   "cell_type": "code",
   "execution_count": 10,
   "id": "f3fd0bd8",
   "metadata": {},
   "outputs": [
    {
     "data": {
      "text/html": [
       "<div>\n",
       "<style scoped>\n",
       "    .dataframe tbody tr th:only-of-type {\n",
       "        vertical-align: middle;\n",
       "    }\n",
       "\n",
       "    .dataframe tbody tr th {\n",
       "        vertical-align: top;\n",
       "    }\n",
       "\n",
       "    .dataframe thead th {\n",
       "        text-align: right;\n",
       "    }\n",
       "</style>\n",
       "<table border=\"1\" class=\"dataframe\">\n",
       "  <thead>\n",
       "    <tr style=\"text-align: right;\">\n",
       "      <th></th>\n",
       "      <th>Make</th>\n",
       "      <th>Model</th>\n",
       "      <th>Sale Price</th>\n",
       "    </tr>\n",
       "  </thead>\n",
       "  <tbody>\n",
       "    <tr>\n",
       "      <th>5984</th>\n",
       "      <td>Volkswagen</td>\n",
       "      <td>Jetta III</td>\n",
       "      <td>99997.65</td>\n",
       "    </tr>\n",
       "    <tr>\n",
       "      <th>1270</th>\n",
       "      <td>Audi</td>\n",
       "      <td>A6</td>\n",
       "      <td>99991.91</td>\n",
       "    </tr>\n",
       "    <tr>\n",
       "      <th>3460</th>\n",
       "      <td>Lexus</td>\n",
       "      <td>LX</td>\n",
       "      <td>99983.38</td>\n",
       "    </tr>\n",
       "    <tr>\n",
       "      <th>9032</th>\n",
       "      <td>Mazda</td>\n",
       "      <td>MX-6</td>\n",
       "      <td>99978.17</td>\n",
       "    </tr>\n",
       "    <tr>\n",
       "      <th>302</th>\n",
       "      <td>Lexus</td>\n",
       "      <td>ES</td>\n",
       "      <td>99973.44</td>\n",
       "    </tr>\n",
       "  </tbody>\n",
       "</table>\n",
       "</div>"
      ],
      "text/plain": [
       "            Make      Model  Sale Price\n",
       "5984  Volkswagen  Jetta III    99997.65\n",
       "1270        Audi         A6    99991.91\n",
       "3460       Lexus         LX    99983.38\n",
       "9032       Mazda       MX-6    99978.17\n",
       "302        Lexus         ES    99973.44"
      ]
     },
     "execution_count": 10,
     "metadata": {},
     "output_type": "execute_result"
    }
   ],
   "source": [
    "car_max=data.nlargest(5,['Sale Price'])\n",
    "car_max[['Make','Model','Sale Price']]"
   ]
  },
  {
   "cell_type": "markdown",
   "id": "b4ea868b",
   "metadata": {},
   "source": [
    "Volkswagen,Audi,Lexus,Mazda and Lexus are the top five cars based on the sales prize"
   ]
  },
  {
   "cell_type": "markdown",
   "id": "5def5f6d",
   "metadata": {},
   "source": [
    "# 5) FIND THE LEAST FIVE CARS BASED ON THEIR RESELL PRICE"
   ]
  },
  {
   "cell_type": "code",
   "execution_count": 13,
   "id": "66a69b61",
   "metadata": {},
   "outputs": [
    {
     "data": {
      "text/html": [
       "<div>\n",
       "<style scoped>\n",
       "    .dataframe tbody tr th:only-of-type {\n",
       "        vertical-align: middle;\n",
       "    }\n",
       "\n",
       "    .dataframe tbody tr th {\n",
       "        vertical-align: top;\n",
       "    }\n",
       "\n",
       "    .dataframe thead th {\n",
       "        text-align: right;\n",
       "    }\n",
       "</style>\n",
       "<table border=\"1\" class=\"dataframe\">\n",
       "  <thead>\n",
       "    <tr style=\"text-align: right;\">\n",
       "      <th></th>\n",
       "      <th>Make</th>\n",
       "      <th>Model</th>\n",
       "      <th>Resell Price</th>\n",
       "    </tr>\n",
       "  </thead>\n",
       "  <tbody>\n",
       "    <tr>\n",
       "      <th>2446</th>\n",
       "      <td>Chevrolet</td>\n",
       "      <td>1500</td>\n",
       "      <td>2000.84</td>\n",
       "    </tr>\n",
       "    <tr>\n",
       "      <th>4933</th>\n",
       "      <td>GMC</td>\n",
       "      <td>Savana 1500</td>\n",
       "      <td>2005.44</td>\n",
       "    </tr>\n",
       "    <tr>\n",
       "      <th>566</th>\n",
       "      <td>Jaguar</td>\n",
       "      <td>XF</td>\n",
       "      <td>2014.09</td>\n",
       "    </tr>\n",
       "    <tr>\n",
       "      <th>2538</th>\n",
       "      <td>Mitsubishi</td>\n",
       "      <td>3000GT</td>\n",
       "      <td>2017.24</td>\n",
       "    </tr>\n",
       "    <tr>\n",
       "      <th>5869</th>\n",
       "      <td>Infiniti</td>\n",
       "      <td>G37</td>\n",
       "      <td>2017.83</td>\n",
       "    </tr>\n",
       "  </tbody>\n",
       "</table>\n",
       "</div>"
      ],
      "text/plain": [
       "            Make        Model  Resell Price\n",
       "2446   Chevrolet         1500       2000.84\n",
       "4933         GMC  Savana 1500       2005.44\n",
       "566       Jaguar           XF       2014.09\n",
       "2538  Mitsubishi       3000GT       2017.24\n",
       "5869    Infiniti          G37       2017.83"
      ]
     },
     "execution_count": 13,
     "metadata": {},
     "output_type": "execute_result"
    }
   ],
   "source": [
    "car_min=data.nsmallest(5,['Resell Price'])\n",
    "car_min[['Make','Model','Resell Price']]"
   ]
  },
  {
   "cell_type": "markdown",
   "id": "01f1829a",
   "metadata": {},
   "source": [
    "Chevrolet,GMC,Jaguar,Mitsubishi and Infinity are the least five cars based on their resell price."
   ]
  }
 ],
 "metadata": {
  "kernelspec": {
   "display_name": "Python 3",
   "language": "python",
   "name": "python3"
  },
  "language_info": {
   "codemirror_mode": {
    "name": "ipython",
    "version": 3
   },
   "file_extension": ".py",
   "mimetype": "text/x-python",
   "name": "python",
   "nbconvert_exporter": "python",
   "pygments_lexer": "ipython3",
   "version": "3.8.8"
  }
 },
 "nbformat": 4,
 "nbformat_minor": 5
}
